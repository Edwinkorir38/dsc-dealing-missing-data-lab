{
 "cells": [
  {
   "cell_type": "markdown",
   "metadata": {},
   "source": [
    "# Dealing with Missing Data - Lab\n",
    "\n",
    "## Introduction\n",
    "\n",
    "In this lab, we'll work through strategies for data cleaning and dealing with missing values (`NaN`s).\n",
    "\n",
    "## Objectives\n",
    "In this lab you will:\n",
    "\n",
    "- Identify missing values in a dataframe using built-in methods \n",
    "- Explain why missing values are a problem in data science \n",
    "\n",
    "## Dataset\n",
    "\n",
    "In this lab, we'll continue working with the _Titanic Survivors_ dataset, which can be found in `'titanic.csv'`.\n",
    "\n",
    "Before we can get going, we'll need to import the usual libraries.  In the cell below, import:\n",
    "* `pandas` as `pd`\n",
    "* `numpy` as `np`\n",
    "* `matplotlib.pyplot` as `plt`\n",
    "* set `%matplotlib inline`"
   ]
  },
  {
   "cell_type": "code",
   "execution_count": 1,
   "metadata": {},
   "outputs": [],
   "source": [
    "# Import necessary libraries below\n",
    "import pandas as pd\n",
    "import numpy as np\n",
    "import matplotlib.pyplot as plt\n",
    "%matplotlib inline\n"
   ]
  },
  {
   "cell_type": "markdown",
   "metadata": {},
   "source": [
    "Now, let's get started by reading in the data from the `'titanic.csv'` file and storing it the DataFrame `df`. Subsequently, be sure to preview the data."
   ]
  },
  {
   "cell_type": "code",
   "execution_count": 3,
   "metadata": {},
   "outputs": [
    {
     "name": "stdout",
     "output_type": "stream",
     "text": [
      "   Unnamed: 0  PassengerId  Survived Pclass  \\\n",
      "0           0            1         0      3   \n",
      "1           1            2         1      1   \n",
      "2           2            3         1      3   \n",
      "3           3            4         1      1   \n",
      "4           4            5         0      3   \n",
      "\n",
      "                                                Name     Sex   Age  SibSp  \\\n",
      "0                            Braund, Mr. Owen Harris    male  22.0      1   \n",
      "1  Cumings, Mrs. John Bradley (Florence Briggs Th...  female  38.0      1   \n",
      "2                             Heikkinen, Miss. Laina  female  26.0      0   \n",
      "3       Futrelle, Mrs. Jacques Heath (Lily May Peel)  female  35.0      1   \n",
      "4                           Allen, Mr. William Henry    male  35.0      0   \n",
      "\n",
      "   Parch            Ticket     Fare Cabin Embarked  \n",
      "0      0         A/5 21171   7.2500   NaN        S  \n",
      "1      0          PC 17599  71.2833   C85        C  \n",
      "2      0  STON/O2. 3101282   7.9250   NaN        S  \n",
      "3      0            113803  53.1000  C123        S  \n",
      "4      0            373450   8.0500   NaN        S  \n"
     ]
    }
   ],
   "source": [
    "# Use pandas to load the csv file\n",
    "# Read the Titanic dataset from the CSV file\n",
    "df = pd.read_csv('titanic.csv')\n",
    "\n",
    "# Preview the first few rows of the dataset\n",
    "print(df.head())\n"
   ]
  },
  {
   "cell_type": "markdown",
   "metadata": {},
   "source": [
    "## Find missing values in a DataFrame\n",
    "\n",
    "Before we can deal with missing values, we first need to find them. There are several easy ways to detect them.  We will start by answering very general questions, such as \"does this DataFrame contain any null values?\", and then narrowing our focus each time the answer to a question is \"yes\".\n",
    "\n",
    "We'll start by checking to see if the DataFrame contains **any** missing values (NaNs) at all. \n",
    "\n",
    "**_Hint_**: If you do this correctly, it will require method chaining, and will return a boolean value for each column.  "
   ]
  },
  {
   "cell_type": "code",
   "execution_count": 4,
   "metadata": {},
   "outputs": [
    {
     "name": "stdout",
     "output_type": "stream",
     "text": [
      "Unnamed: 0     False\n",
      "PassengerId    False\n",
      "Survived       False\n",
      "Pclass         False\n",
      "Name           False\n",
      "Sex            False\n",
      "Age             True\n",
      "SibSp          False\n",
      "Parch          False\n",
      "Ticket         False\n",
      "Fare           False\n",
      "Cabin           True\n",
      "Embarked        True\n",
      "dtype: bool\n"
     ]
    }
   ],
   "source": [
    "# Your code here\n",
    "# Check for any missing values (NaNs) in the DataFrame\n",
    "missing_values = df.isna().any()\n",
    "\n",
    "# Print the result to see if any column has missing values\n",
    "print(missing_values)\n"
   ]
  },
  {
   "cell_type": "markdown",
   "metadata": {},
   "source": [
    "Now we know which columns contain missing values, but not how many. \n",
    "\n",
    "In the cell below, chain a different method with `isna()` to check how many total missing values are in each column.  \n",
    "\n",
    "Expected Output:\n",
    "\n",
    "```\n",
    "PassengerId      0\n",
    "Survived         0\n",
    "Pclass           0\n",
    "Name             0\n",
    "Sex              0\n",
    "Age            177\n",
    "SibSp            0\n",
    "Parch            0\n",
    "Ticket           0\n",
    "Fare             0\n",
    "Cabin          687\n",
    "Embarked         2\n",
    "dtype: int64\n",
    "```"
   ]
  },
  {
   "cell_type": "code",
   "execution_count": 5,
   "metadata": {},
   "outputs": [
    {
     "name": "stdout",
     "output_type": "stream",
     "text": [
      "Unnamed: 0       0\n",
      "PassengerId      0\n",
      "Survived         0\n",
      "Pclass           0\n",
      "Name             0\n",
      "Sex              0\n",
      "Age            177\n",
      "SibSp            0\n",
      "Parch            0\n",
      "Ticket           0\n",
      "Fare             0\n",
      "Cabin          687\n",
      "Embarked         2\n",
      "dtype: int64\n"
     ]
    }
   ],
   "source": [
    "# Your code here\n",
    "# Count the total number of missing values in each column\n",
    "missing_counts = df.isna().sum()\n",
    "\n",
    "# Print the result\n",
    "print(missing_counts)\n"
   ]
  },
  {
   "cell_type": "markdown",
   "metadata": {},
   "source": [
    "Now that we know how many missing values exist in each column, we can make some decisions about how to deal with them.  \n",
    "\n",
    "We'll deal with each column individually, and employ a different strategy for each.  \n",
    "\n",
    "\n",
    "### Dropping the column\n",
    "\n",
    "The first column we'll deal with is the `Cabin` column.  We'll begin by examining this column more closely. \n",
    "\n",
    "\n",
    "In the cell below:\n",
    "* Determine what percentage of rows in this column contain missing values\n",
    "* Print out the number of unique values in this column"
   ]
  },
  {
   "cell_type": "code",
   "execution_count": 6,
   "metadata": {},
   "outputs": [
    {
     "name": "stdout",
     "output_type": "stream",
     "text": [
      "Percentage of missing values in 'Cabin': 77.10%\n",
      "Number of unique values in 'Cabin': 147\n"
     ]
    }
   ],
   "source": [
    "# Your code here\n",
    "# Calculate the percentage of missing values in the 'Cabin' column\n",
    "missing_percentage_cabin = df['Cabin'].isna().mean() * 100\n",
    "\n",
    "# Print the percentage of missing values\n",
    "print(f\"Percentage of missing values in 'Cabin': {missing_percentage_cabin:.2f}%\")\n",
    "\n",
    "# Print the number of unique values in the 'Cabin' column\n",
    "unique_cabin_values = df['Cabin'].nunique()\n",
    "\n",
    "# Print the number of unique values\n",
    "print(f\"Number of unique values in 'Cabin': {unique_cabin_values}\")\n"
   ]
  },
  {
   "cell_type": "markdown",
   "metadata": {},
   "source": [
    "With this many missing values, it's probably best for us to just drop this column completely.\n",
    "\n",
    "In the cell below:\n",
    "\n",
    "* Drop the `Cabin` column in place from the `df` DataFrame\n",
    "* Then, check the remaining number of null values in the dataset by using the code you wrote previously   "
   ]
  },
  {
   "cell_type": "code",
   "execution_count": 7,
   "metadata": {},
   "outputs": [
    {
     "name": "stdout",
     "output_type": "stream",
     "text": [
      "Unnamed: 0       0\n",
      "PassengerId      0\n",
      "Survived         0\n",
      "Pclass           0\n",
      "Name             0\n",
      "Sex              0\n",
      "Age            177\n",
      "SibSp            0\n",
      "Parch            0\n",
      "Ticket           0\n",
      "Fare             0\n",
      "Embarked         2\n",
      "dtype: int64\n"
     ]
    }
   ],
   "source": [
    "# Your code here\n",
    "# Drop the 'Cabin' column in place\n",
    "df.drop('Cabin', axis=1, inplace=True)\n",
    "\n",
    "# Check for the remaining number of missing values in the dataset\n",
    "missing_counts_after_drop = df.isna().sum()\n",
    "\n",
    "# Print the result\n",
    "print(missing_counts_after_drop)"
   ]
  },
  {
   "cell_type": "markdown",
   "metadata": {},
   "source": [
    "### Computing placeholder values\n",
    "\n",
    "Recall that another common strategy for dealing with missing values is to replace them with the mean or median for that column. We'll begin by investigating the current version of the `'Age'` column.  \n",
    "\n",
    "In the cell below:\n",
    "\n",
    "* Plot a histogram of values in the `'Age'` column with 80 bins (1 for each year)    \n",
    "* Print out the mean and median for the column   "
   ]
  },
  {
   "cell_type": "code",
   "execution_count": 9,
   "metadata": {},
   "outputs": [
    {
     "data": {
      "image/png": "[encoded data removed]",
      "text/plain": [
       "<Figure size 640x480 with 1 Axes>"
      ]
     },
     "metadata": {},
     "output_type": "display_data"
    },
    {
     "name": "stdout",
     "output_type": "stream",
     "text": [
      "Mean Age: 29.70\n",
      "Median Age: 28.00\n"
     ]
    }
   ],
   "source": [
    "# Your code here\n",
    "# Plot a histogram of 'Age' with 80 bins\n",
    "plt.hist(df['Age'].dropna(), bins=80, edgecolor='black')\n",
    "plt.title('Histogram of Age')\n",
    "plt.xlabel('Age')\n",
    "plt.ylabel('Frequency')\n",
    "plt.tight_layout()\n",
    "plt.show()\n",
    "\n",
    "# Compute the mean and median of the 'Age' column\n",
    "mean_age = df['Age'].mean()\n",
    "median_age = df['Age'].median()\n",
    "\n",
    "# Print the mean and median values\n",
    "print(f\"Mean Age: {mean_age:.2f}\")\n",
    "print(f\"Median Age: {median_age:.2f}\")\n"
   ]
  },
  {
   "cell_type": "markdown",
   "metadata": {},
   "source": [
    "From the visualization above, we can see the data has a slightly positive skew. \n",
    "\n",
    "In the cell below, replace all missing values in the `'Age'` column with the median of the column.  **Do not hard code this value -- use the methods from pandas or numpy to make this easier.**  Do this replacement in place on the DataFrame. "
   ]
  },
  {
   "cell_type": "code",
   "execution_count": 11,
   "metadata": {},
   "outputs": [],
   "source": [
    "# Your code here\n",
    "# Replace missing values in 'Age' column with the median\n",
    "df['Age'] = df['Age'].fillna(df['Age'].median())"
   ]
  },
  {
   "cell_type": "markdown",
   "metadata": {},
   "source": [
    "Now that we've replaced the values in the `'Age'` column, let's confirm that they've been replaced.  \n",
    "\n",
    "In the cell below, check how many null values remain in the dataset.  "
   ]
  },
  {
   "cell_type": "code",
   "execution_count": 12,
   "metadata": {},
   "outputs": [
    {
     "name": "stdout",
     "output_type": "stream",
     "text": [
      "Unnamed: 0     0\n",
      "PassengerId    0\n",
      "Survived       0\n",
      "Pclass         0\n",
      "Name           0\n",
      "Sex            0\n",
      "Age            0\n",
      "SibSp          0\n",
      "Parch          0\n",
      "Ticket         0\n",
      "Fare           0\n",
      "Embarked       2\n",
      "dtype: int64\n"
     ]
    }
   ],
   "source": [
    "# Your code here\n",
    "# Check for the remaining number of missing values in the dataset\n",
    "missing_counts_after_imputation = df.isna().sum()\n",
    "\n",
    "# Print the result\n",
    "print(missing_counts_after_imputation)\n"
   ]
  },
  {
   "cell_type": "markdown",
   "metadata": {},
   "source": [
    "Now we need to deal with the two pesky missing values in the `'Embarked'` column.  \n",
    "\n",
    "### Dropping rows that contain missing values\n",
    "\n",
    "Perhaps the most common solution to dealing with missing values is to simply drop any rows that contain them.  Of course, this is only a good idea if the number dropped does not constitute a significant portion of our dataset.  Often, you'll need to make the overall determination to see if dropping the values is an acceptable loss, or if it is a better idea to just drop an offending column (e.g. the `'Cabin'` column) or to impute placeholder values instead.\n",
    "\n",
    "In the cell below, use the appropriate built-in DataFrame method to drop the rows containing missing values. Do this in place on the DataFrame.  "
   ]
  },
  {
   "cell_type": "code",
   "execution_count": 13,
   "metadata": {},
   "outputs": [
    {
     "name": "stdout",
     "output_type": "stream",
     "text": [
      "Unnamed: 0     0\n",
      "PassengerId    0\n",
      "Survived       0\n",
      "Pclass         0\n",
      "Name           0\n",
      "Sex            0\n",
      "Age            0\n",
      "SibSp          0\n",
      "Parch          0\n",
      "Ticket         0\n",
      "Fare           0\n",
      "Embarked       0\n",
      "dtype: int64\n"
     ]
    }
   ],
   "source": [
    "# Your code here\n",
    "# Drop rows containing missing values in any column (in place)\n",
    "df.dropna(inplace=True)\n",
    "\n",
    "# Check the number of missing values remaining after dropping rows\n",
    "missing_counts_after_drop = df.isna().sum()\n",
    "\n",
    "# Print the result\n",
    "print(missing_counts_after_drop)\n"
   ]
  },
  {
   "cell_type": "markdown",
   "metadata": {},
   "source": [
    "We've dealt with all the **_obvious_** missing values, but we should also take some time to make sure that there aren't symbols or numbers included that are meant to denote a missing value. \n",
    "\n",
    "### Missing values with placeholders\n",
    "\n",
    "A common thing to see when working with datasets is missing values denoted with a preassigned code or symbol.  Let's check to ensure that each categorical column contains only what we expect.\n",
    "\n",
    "In the cell below, return the unique values in the `'Embarked'`, `'Sex'`, `'Pclass'`, and `'Survived'` columns to ensure that there are no values in there that we don't understand or can't account for.  "
   ]
  },
  {
   "cell_type": "code",
   "execution_count": 14,
   "metadata": {},
   "outputs": [
    {
     "name": "stdout",
     "output_type": "stream",
     "text": [
      "Unique values in 'Embarked': ['S' 'C' 'Q']\n",
      "Unique values in 'Sex': ['male' 'female']\n",
      "Unique values in 'Pclass': ['3' '1' '2' '?']\n",
      "Unique values in 'Survived': [0 1]\n"
     ]
    }
   ],
   "source": [
    "# Your code here\n",
    "# Check unique values in the relevant categorical columns\n",
    "embarked_unique = df['Embarked'].unique()\n",
    "sex_unique = df['Sex'].unique()\n",
    "pclass_unique = df['Pclass'].unique()\n",
    "survived_unique = df['Survived'].unique()\n",
    "\n",
    "# Print the unique values for each column\n",
    "print(\"Unique values in 'Embarked':\", embarked_unique)\n",
    "print(\"Unique values in 'Sex':\", sex_unique)\n",
    "print(\"Unique values in 'Pclass':\", pclass_unique)\n",
    "print(\"Unique values in 'Survived':\", survived_unique)"
   ]
  },
  {
   "cell_type": "markdown",
   "metadata": {},
   "source": [
    "It looks like the `'Pclass'` column contains some missing values denoted by a placeholder. \n",
    "\n",
    "In the cell below, investigate how many placeholder values this column contains.  Then, deal with these missing values using whichever strategy you believe is most appropriate in this case.  "
   ]
  },
  {
   "cell_type": "code",
   "execution_count": 15,
   "metadata": {},
   "outputs": [
    {
     "name": "stdout",
     "output_type": "stream",
     "text": [
      "Value counts of 'Pclass':\n",
      " Pclass\n",
      "3    469\n",
      "1    200\n",
      "2    172\n",
      "?     48\n",
      "Name: count, dtype: int64\n"
     ]
    }
   ],
   "source": [
    "# Your code here\n",
    "# Check for any unusual or placeholder values in 'Pclass'\n",
    "placeholder_values_pclass = df['Pclass'].value_counts()\n",
    "\n",
    "# Print the value counts of the 'Pclass' column\n",
    "print(\"Value counts of 'Pclass':\\n\", placeholder_values_pclass)\n"
   ]
  },
  {
   "cell_type": "code",
   "execution_count": 17,
   "metadata": {},
   "outputs": [
    {
     "name": "stdout",
     "output_type": "stream",
     "text": [
      "Missing values in 'Pclass' after imputation: 0\n"
     ]
    }
   ],
   "source": [
    "# Your code here\n",
    "# Replace placeholder values in 'Pclass' with the most frequent value (mode)\n",
    "df['Pclass'].replace('placeholder_value', df['Pclass'].mode()[0])\n",
    "\n",
    "# Alternatively, if missing values are detected (NaN), you can use:\n",
    "# df['Pclass'].fillna(df['Pclass'].mode()[0], inplace=True)\n",
    "\n",
    "# Verify the changes\n",
    "missing_counts_after_pclass_imputation = df['Pclass'].isna().sum()\n",
    "\n",
    "# Print the number of missing values after handling\n",
    "print(f\"Missing values in 'Pclass' after imputation: {missing_counts_after_pclass_imputation}\")\n"
   ]
  },
  {
   "cell_type": "markdown",
   "metadata": {},
   "source": [
    "**_Question:_** What is the benefit of treating missing values as a separate valid category?  What is the benefit of removing or replacing them? What are the drawbacks of each? Finally, which strategy did you choose? Explain your choice below. \n",
    "\n",
    "Write your answer below this line:\n",
    "______________________________________________________________________________________________________"
   ]
  },
  {
   "cell_type": "code",
   "execution_count": 18,
   "metadata": {},
   "outputs": [
    {
     "data": {
      "text/plain": [
       "\"'\\nTreating Missing Values as a Separate Category\\nBenefit: Can capture missingness as potentially meaningful (e.g., non-response indicating refusal). Drawback: Can introduce noise and misleading patterns if missingness is not informative.\\n\\nRemoving or Replacing Missing Values\\nBenefit: Cleans the data, prevents model errors, and avoids introducing noise. Drawback: Loss of data or potential bias if imputed values don't reflect the true distribution.\\n\\nChosen Strategy\\nI chose to replace missing numerical values in 'Age' with the median (since it's less sensitive to outliers) and drop rows with missing categorical values in 'Embarked', as the number of missing rows was small and their removal wouldn't significantly impact the dataset. This approach maintains data integrity without introducing bias.\\n\""
      ]
     },
     "execution_count": 18,
     "metadata": {},
     "output_type": "execute_result"
    }
   ],
   "source": [
    "''''\n",
    "Treating Missing Values as a Separate Category\n",
    "Benefit: Can capture missingness as potentially meaningful (e.g., non-response indicating refusal). Drawback: Can introduce noise and misleading patterns if missingness is not informative.\n",
    "\n",
    "Removing or Replacing Missing Values\n",
    "Benefit: Cleans the data, prevents model errors, and avoids introducing noise. Drawback: Loss of data or potential bias if imputed values don't reflect the true distribution.\n",
    "\n",
    "Chosen Strategy\n",
    "I chose to replace missing numerical values in 'Age' with the median (since it's less sensitive to outliers) and drop rows with missing categorical values in 'Embarked', as the number of missing rows was small and their removal wouldn't significantly impact the dataset. This approach maintains data integrity without introducing bias.\n",
    "'''"
   ]
  },
  {
   "cell_type": "markdown",
   "metadata": {},
   "source": [
    "<details>\n",
    "    <summary style=\"cursor: pointer; display: inline\">\n",
    "        <b><u>Solution (click to reveal)</u></b>\n",
    "    </summary>\n",
    "    <p>Sample response:\n",
    "\n",
    "By treating missing values as a separate category, information is preserved. \n",
    "Perhaps there is a reason that this information is missing. \n",
    "By removing or replacing missing information, we can more easily conduct mathematical analyses which require values for computation. \n",
    "I chose to randomly replace for now. I could have just as easily removed the data. \n",
    "Concerns include that I imputed the wrong value (indeed it was a random guess). \n",
    "The strategy for dealing with missing data will depend on our desired application, \n",
    "but regardless of the approach taken, the ramifications of how missing data are handled must be considered. \n",
    "For example, imputing the median of our age reduces variance \n",
    "and assumes that a new value would be close to the center of the distribution \n",
    "(albeit this assumption is statistically likely).</p>\n",
    "</details>"
   ]
  },
  {
   "cell_type": "markdown",
   "metadata": {},
   "source": [
    "Now, let's do a final check to ensure that there are no more missing values remaining in this dataset.  \n",
    "\n",
    "In the cell below, reuse the code you wrote at the beginning of the notebook to check how many null values our dataset now contains.  "
   ]
  },
  {
   "cell_type": "code",
   "execution_count": 19,
   "metadata": {},
   "outputs": [
    {
     "name": "stdout",
     "output_type": "stream",
     "text": [
      "Unnamed: 0     0\n",
      "PassengerId    0\n",
      "Survived       0\n",
      "Pclass         0\n",
      "Name           0\n",
      "Sex            0\n",
      "Age            0\n",
      "SibSp          0\n",
      "Parch          0\n",
      "Ticket         0\n",
      "Fare           0\n",
      "Embarked       0\n",
      "dtype: int64\n"
     ]
    }
   ],
   "source": [
    "# Your code here\n",
    "# Check for the remaining number of missing values in the dataset\n",
    "missing_counts_final = df.isna().sum()\n",
    "\n",
    "# Print the result\n",
    "print(missing_counts_final)\n"
   ]
  },
  {
   "cell_type": "markdown",
   "metadata": {},
   "source": [
    "Those all seem in line with our expectations.  We can confidently say that this dataset contains no pesky missing values that will mess up our analysis if we continue with this dataset."
   ]
  },
  {
   "cell_type": "markdown",
   "metadata": {},
   "source": [
    "## Summary\n",
    "\n",
    "In this lab, we learned:\n",
    "* How to detect missing values in our dataset\n",
    "* How to deal with missing values by dropping rows\n",
    "* How to deal with missing values by imputing mean/median values \n",
    "* Strategies for detecting missing values encoded with a placeholder"
   ]
  }
 ],
 "metadata": {
  "kernelspec": {
   "display_name": "DataScience_env",
   "language": "python",
   "name": "python3"
  },
  "language_info": {
   "codemirror_mode": {
    "name": "ipython",
    "version": 3
   },
   "file_extension": ".py",
   "mimetype": "text/x-python",
   "name": "python",
   "nbconvert_exporter": "python",
   "pygments_lexer": "ipython3",
   "version": "3.11.7"
  }
 },
 "nbformat": 4,
 "nbformat_minor": 2
}
